{
 "cells": [
  {
   "cell_type": "markdown",
   "id": "a91e761f",
   "metadata": {
    "kernel": "SoS"
   },
   "source": [
    "# Lab 7: S-PrediXcan\n",
    "\n",
    "## Introduction\n",
    "\n",
    "PrediXcan is a gene-based association method that directly tests the molecular mechanisms through which genetic variation affects a phenotype. \n",
    "\n",
    "S-PrediXcan is an extension of PrediXcan that infers PrediXcan's results using only GWAS summary statistics and LD reference panel. The software can be found at the [MetaXcan repo](https://github.com/hakyimlab/MetaXcan).\n",
    "\n",
    "In this lab, we will see how to run a S-PrediXcan analysis.\n",
    "\n",
    "By the end of the lab you should be able to:\n",
    "\n",
    "- **Understand the types of files required for S-PrediXcan**  \n",
    "- **Interpret the results of S-PrediXcan analysis**\n",
    "\n"
   ]
  },
  {
   "cell_type": "markdown",
   "id": "d7c54a2d",
   "metadata": {
    "kernel": "SoS"
   },
   "source": [
    "# S-PrediXcan analysis\n",
    "\n",
    "To recap, S-PrediXcan analysis takes GWAS summary statistics, gene expression prediction models (weights for SNPs), and reference LD and provides gene-level association between predicted expression and trait. \n",
    "\n",
    "So, it requires the following three pieces of data:  \n",
    "1. GWAS summary statistics  \n",
    "2. Expression prediction model (available through [http://predictdb.org/](http://predictdb.org/))  \n",
    "3. Reference LD (also from [http://predictdb.org/](http://predictdb.org/))  \n",
    "  \n",
    "The complete analysis workflow is:\\\n",
    "1. Pick a expression prediction model (dataset, population, tissue).\\\n",
    "2. Harmonize the GWAS so that it works on the same set of variants as expression prediction model (it may require imputation of GWAS). More details can be found [here](https://github.com/hakyimlab/MetaXcan/wiki/Tutorial:-GTEx-v8-MASH-models-integration-with-a-Coronary-Artery-Disease-GWAS).\\\n",
    "3. Run SPrediXcan script.\n",
    "\n",
    "One caveat is that we need to make sure that the GWAS and prediction model are based on the same population. \n",
    "\n",
    "Here we provide expression prediction models stored in a SQLite file with extension `*.db` which were built from GTEx V8 data. \n",
    "And these variants are called and labelled specifically by GTEx V8 data.\n",
    "And reference LD meaning the covariances between SNPs is in the same folder with extension `*.txt.gz`.\n",
    "Luckily we have GWAS results harmonized to GTEx V8 by Alvaro Barbeira at [here](https://uchicago.box.com/s/tkoya2h769hyvs8e2texokpsw8qqoop3).  \n",
    "\n",
    "As an example, let's pick tissue \"Whole_Blood\" and GWAS \"UKB_20002_1223_self_reported_type_2_diabetes\"."
   ]
  },
  {
   "cell_type": "markdown",
   "id": "5f52b1c0",
   "metadata": {
    "kernel": "Markdown"
   },
   "source": [
    "* Before running the following commands, you need to set up the environment required for the MetaXcan program in the global environment.\n",
    " The conda_env.yaml file and the MetaXcan-master folder have been downloaded from https://github.com/hakyimlab/MetaXcan and are available in the lab7 directory. "
   ]
  },
  {
   "cell_type": "code",
   "execution_count": 6,
   "id": "6c5b8d9d",
   "metadata": {
    "attributes": {
     "classes": [],
     "eval": "FALSE",
     "id": ""
    },
    "kernel": "Bash"
   },
   "outputs": [
    {
     "name": "stdout",
     "output_type": "stream",
     "text": [
      "INFO - Processing GWAS command line parameters\n",
      "INFO - Building beta for UKB_20002_1223_self_reported_type_2_diabetes.txt.gz and mashr_Whole_Blood.db\n",
      "INFO - Reading input gwas with special handling: UKB_20002_1223_self_reported_type_2_diabetes.txt.gz\n",
      "INFO - Processing input gwas\n",
      "INFO - Aligning GWAS to models\n",
      "INFO - Trimming output\n",
      "INFO - Successfully parsed input gwas in 18.620716465637088 seconds\n",
      "INFO - Started metaxcan process\n",
      "INFO - Loading model from: mashr_Whole_Blood.db\n",
      "INFO - Loading covariance data from: mashr_Whole_Blood.txt.gz\n",
      "INFO - Processing loaded gwas\n",
      "INFO - Started metaxcan association\n",
      "INFO - 10 % of model's snps found so far in the gwas study\n",
      "INFO - 20 % of model's snps found so far in the gwas study\n",
      "INFO - 30 % of model's snps found so far in the gwas study\n",
      "INFO - 40 % of model's snps found so far in the gwas study\n",
      "INFO - 50 % of model's snps found so far in the gwas study\n",
      "INFO - 60 % of model's snps found so far in the gwas study\n",
      "INFO - 70 % of model's snps found so far in the gwas study\n",
      "INFO - 80 % of model's snps found so far in the gwas study\n",
      "INFO - 90 % of model's snps found so far in the gwas study\n",
      "INFO - 99 % of model's snps used\n",
      "INFO - Sucessfully processed metaxcan association in 5.187327083200216 seconds\n"
     ]
    }
   ],
   "source": [
    "conda env create -f conda_env.yaml  # To set up the environment required for running MetaXcan in the system-level Bash environment\n",
    "\n",
    "\n",
    "\n",
    "conda activate imlabtools\n",
    "\n",
    "\n",
    "python MetaXcan-master/software/SPrediXcan.py --model_db_path mashr_Whole_Blood.db \\\n",
    "--model_db_snp_key varID --covariance mashr_Whole_Blood.txt.gz \\\n",
    "--gwas_file UKB_20002_1223_self_reported_type_2_diabetes.txt.gz \\\n",
    "--snp_column panel_variant_id --effect_allele_column effect_allele \\\n",
    "--non_effect_allele_column non_effect_allele --zscore_column zscore \\\n",
    "--pvalue_column pvalue --keep_non_rsid \\\n",
    "--output_file output/spredixcan_UKB_20002_1223_self_reported_type_2_diabetes.csv\n",
    "\n"
   ]
  },
  {
   "cell_type": "markdown",
   "id": "0dfa0d87",
   "metadata": {
    "kernel": "SoS"
   },
   "source": [
    "Taken from the github page, each output file is a CSV, with each row containing a gene association at a given trait-tissue combination:\n",
    "\n",
    "* gene: ENSEMBLE ID or intron id\n",
    "* gene_name: HUGO name or intron id\n",
    "* zscore: predicted association z-score\n",
    "* effect_size: estimated effect size\n",
    "* pvalue: association p-value\n",
    "* var_g: estimated variance of predicted expression or splicing\n",
    "* pred_perf_r2: prediction model cross-validated performance\n",
    "* pred_perf_pval: prediction model cross-validated performance\n",
    "* pred_perf_qval: deprecated, empty field left for compatibility\n",
    "* n_snps_used: number of snps in the intersection of GWAS and model\n",
    "* n_snps_in_cov: number of snps in the LD compilation\n",
    "* n_snps_in_model: number of snps in the model\n",
    "* best_gwas_p: smallest p-value acros GWAS snps used in this model\n",
    "* largest_weight: largest prediction model weight\n",
    "\n",
    "\n",
    "*Problem 1*: \n",
    "\n",
    "Which gene is the most significant? Hint: first filter out lines with NAs in p-value columns and then sort by numerical values.\n",
    "\n",
    "*Problem 2*:\n",
    "\n",
    "Repeat the same analysis but with liver tissue. Show your command.\n",
    "\n",
    "*Problem 3*:\n",
    "\n",
    "Visualize the results from two tissues by QQ-plot. Plot $\\log(p)$ where expected p-values on x-axis, and observed p-values on y-axis, and color the two tissues differently.\n",
    "\n",
    "\n",
    "**References**\n",
    "\n",
    "Barbeira, Alvaro N, Scott P Dickinson, Rodrigo Bonazzola, Jiamao Zheng, Heather E Wheeler, Jason M Torres, Eric S Torstenson, et al. 2018. “Exploring the Phenotypic Consequences of Tissue Specific Gene Expression Variation Inferred from Gwas Summary Statistics.” Nature Communications 9 (1). Nature Publishing Group: 1–20.\n",
    "\n",
    "Gamazon, Eric R, Heather E Wheeler, Kaanan P Shah, Sahar V Mozaffari, Keston Aquino-Michaels, Robert J Carroll, Anne E Eyler, et al. 2015. “A Gene-Based Association Method for Mapping Traits Using Reference Transcriptome Data.” Nature Genetics 47 (9). Nature Publishing Group: 1091."
   ]
  }
 ],
 "metadata": {
  "kernelspec": {
   "display_name": "SoS",
   "language": "sos",
   "name": "sos"
  },
  "language_info": {
   "codemirror_mode": "sos",
   "file_extension": ".sos",
   "mimetype": "text/x-sos",
   "name": "sos",
   "nbconvert_exporter": "sos_notebook.converter.SoS_Exporter",
   "pygments_lexer": "sos"
  },
  "sos": {
   "kernels": [
    [
     "Bash",
     "bash",
     "Bash",
     "#E6EEFF",
     "shell"
    ],
    [
     "Markdown",
     "markdown",
     "markdown",
     "",
     ""
    ]
   ],
   "panel": {
    "displayed": true,
    "height": 0
   },
   "version": "0.24.4"
  },
  "varInspector": {
   "cols": {
    "lenName": 16,
    "lenType": 16,
    "lenVar": 40
   },
   "kernels_config": {
    "python": {
     "delete_cmd_postfix": "",
     "delete_cmd_prefix": "del ",
     "library": "var_list.py",
     "varRefreshCmd": "print(var_dic_list())"
    },
    "r": {
     "delete_cmd_postfix": ") ",
     "delete_cmd_prefix": "rm(",
     "library": "var_list.r",
     "varRefreshCmd": "cat(var_dic_list()) "
    }
   },
   "types_to_exclude": [
    "module",
    "function",
    "builtin_function_or_method",
    "instance",
    "_Feature"
   ],
   "window_display": false
  }
 },
 "nbformat": 4,
 "nbformat_minor": 5
}
