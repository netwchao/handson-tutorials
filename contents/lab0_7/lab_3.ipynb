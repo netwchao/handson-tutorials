{
 "cells": [
  {
   "cell_type": "markdown",
   "id": "93a4ea85",
   "metadata": {
    "kernel": "SoS"
   },
   "source": [
    "---\n",
    "Lab3:Genotype Imputation with IMPUTE2\n",
    "---\n",
    "**Before getting started, here are some notes on how to manage softwares, data, and output on cluster**. \n",
    "It is better to to have data, software, and files organized into folders rather than putting everything at one place.\n",
    "And thoughout this lab, you can maintain a folder stucture like:"
   ]
  },
  {
   "cell_type": "code",
   "execution_count": 3,
   "id": "af74713b",
   "metadata": {
    "kernel": "Bash",
    "vscode": {
     "languageId": "shellscript"
    }
   },
   "outputs": [
    {
     "name": "stdout",
     "output_type": "stream",
     "text": [
      "lab3/  [error opening dir]\n",
      "\n",
      "0 directories, 0 files\n"
     ]
    },
    {
     "ename": "",
     "evalue": "2",
     "output_type": "error",
     "traceback": []
    }
   ],
   "source": [
    "tree lab3/ -L 2"
   ]
  },
  {
   "cell_type": "markdown",
   "id": "b02d4753",
   "metadata": {
    "jupyter": {
     "source_hidden": true
    },
    "kernel": "SoS"
   },
   "source": [
    "Genotype imputation relies on statistical inference and known haplotypes in a population to estimate unobserved genotypes. Often, particularly in epidemiology and quantitative genetics, a researcher may want to identify a specific location in the genome where genetic variation is associated with a particular phenotype, but they may only have access to sparse genotype data (e.g. data from a SNP genotyping array as opposed to complete sequence/whole genome sequencing data). At the same time, dense genotype data may exist for a reference panel of individuals (e.g. from the HapMap project or 1000 Genomes for humans). By leveraging the information in the reference panel to impute gentoypes into the inference panel, a reseracher can interrogate more variants for association with the trait.  In some cases, this reveals associations that would not be detected directly in the sparse data. In other cases, it may help refine the location of a causal variant. \n",
    "\n",
    "The imputation process relies on haplotype phasing, which is the statistical estimation of haplotypes from genotype data. Both of these steps can be accomplished from within IMPUTE2, and will be the focus of today's lab. By the end of the lab you should be able to:\n",
    "\n",
    "- **Understand basic workflow and syntax of IMPUTE2**  \n",
    "- **Execute basic imputation in IMPUTE2**\n",
    "- **Navigate basic commands for file conversion using GTOOL**  \n",
    "- **Understand key assumptions of imputation**\n",
    "- **Utilize IMPUTE2 and PLINK to search for putative associations in imputed SNPs**\n",
    "\n",
    "# Basics of IMPUTE2\n",
    "\n",
    "## BASH commands useful for this lab \n",
    "\n",
    "Command     |     Description\n",
    "----------  |   ----------------------------------\n",
    "**cut**     |   Extract sections from each line of input stream (i.e. file).  \n",
    "**sed**     |   Stream editor for performing basic text transformations on an input stream.\n",
    "**paste**   |   Merges lines of files together.\n",
    "**wc**      |   Word, line, character, and byte count.  \n",
    "**mkdir**   |   Make directory.\n",
    "**head**    |   Output first part of files.\n",
    "**grep**    |   Prints lines matching a pattern (helpful for manipulating large files).\n",
    "\n",
    "## Standard IMPUTE2 arguments\n",
    "\n",
    "Argument      |  Input Type     |       Description\n",
    "-----------   | -------         |     -----------------------------------\n",
    "**-g**        |   .gens         |   File containing study genotypes needing imputation or phasing.  \n",
    "**-m**        |   .map          |   Fine-scale recombination map for the region to be analyzed.\n",
    "**-int**      |   [*interval*] |  Genomic interval to use for imputation inference.\n",
    "**-h**        |   .haps         |  File of known haplotypes, with one row per SNP and one column per haplotype (alleles must be coded 0 or 1)\n",
    "**-l**        |  .legend        |   Legend file(s) with information about the SNPs in the haplotypes file. \n",
    "**-strand_g**  |   .strand       |   File containing strand orientation of the inference set. \n",
    "**-Ne**        |   [*pop size*]  |   Parameter controlling effective population size. \n",
    "\n",
    "\n",
    "## Downloading and Running IMPUTE2\n",
    "\n",
    "**Follow the command below to download IMPUTE2 and go to the Example directory**:"
   ]
  },
  {
   "cell_type": "code",
   "execution_count": 4,
   "id": "209e200b",
   "metadata": {
    "kernel": "Bash",
    "vscode": {
     "languageId": "shellscript"
    }
   },
   "outputs": [
    {
     "name": "stdout",
     "output_type": "stream",
     "text": [
      "  % Total    % Received % Xferd  Average Speed   Time    Time     Time  Current\n",
      "                                 Dload  Upload   Total   Spent    Left  Speed\n",
      "100 1464k  100 1464k    0     0  12772      0  0:01:57  0:01:57 --:--:--  9607\n",
      "impute_v2.3.2_x86_64_static/\n",
      "impute_v2.3.2_x86_64_static/Example/\n",
      "impute_v2.3.2_x86_64_static/Example/example.chr22.1kG.annot.legend\n",
      "impute_v2.3.2_x86_64_static/Example/example.chr22.1kG.haps\n",
      "impute_v2.3.2_x86_64_static/Example/example.chr22.1kG.legend\n",
      "impute_v2.3.2_x86_64_static/Example/example.chr22.hm3.haps\n",
      "impute_v2.3.2_x86_64_static/Example/example.chr22.hm3.legend\n",
      "impute_v2.3.2_x86_64_static/Example/example.chr22.map\n",
      "impute_v2.3.2_x86_64_static/Example/example.chr22.one.phased.impute2\n",
      "impute_v2.3.2_x86_64_static/Example/example.chr22.one.phased.impute2_info\n",
      "impute_v2.3.2_x86_64_static/Example/example.chr22.one.phased.impute2_info_by_sample\n",
      "impute_v2.3.2_x86_64_static/Example/example.chr22.one.phased.impute2_summary\n",
      "impute_v2.3.2_x86_64_static/Example/example.chr22.one.phased.impute2_warnings\n",
      "impute_v2.3.2_x86_64_static/Example/example.chr22.reference.gens\n",
      "impute_v2.3.2_x86_64_static/Example/example.chr22.reference.snp.exclusions\n",
      "impute_v2.3.2_x86_64_static/Example/example.chr22.reference.strand\n",
      "impute_v2.3.2_x86_64_static/Example/example.chr22.study.gens\n",
      "impute_v2.3.2_x86_64_static/Example/example.chr22.study.strand\n",
      "impute_v2.3.2_x86_64_static/Example/example.study.sample.exclusions\n",
      "impute_v2.3.2_x86_64_static/Example/example.study.samples\n",
      "impute_v2.3.2_x86_64_static/impute2\n",
      "impute_v2.3.2_x86_64_static/LICENCE\n"
     ]
    }
   ],
   "source": [
    "#mkdir IMPUTE2\n",
    "cd IMPUTE2\n",
    "#curl https://mathgen.stats.ox.ac.uk/impute/impute_v2.3.2_x86_64_static.tgz > impute2.tgz  \n",
    "#tar -zxvf impute2.tgz\n",
    "cd impute_v2.3.2_x86_64_static/"
   ]
  },
  {
   "cell_type": "code",
   "execution_count": 8,
   "id": "d665ec26-9244-4fcb-a5f1-072e52d5b574",
   "metadata": {
    "kernel": "Bash"
   },
   "outputs": [
    {
     "name": "stdout",
     "output_type": "stream",
     "text": [
      "\u001b[0m\u001b[01;34mExample\u001b[0m  \u001b[01;32mimpute2\u001b[0m  LICENCE\n"
     ]
    }
   ],
   "source": [
    "ls"
   ]
  },
  {
   "cell_type": "markdown",
   "id": "f83340bc",
   "metadata": {
    "kernel": "SoS"
   },
   "source": [
    "## File formatting for IMPUTE2  \n",
    "\n",
    "There are several file formats necessary for IMPUTE2, which are listed above in Section 1.2. It is helpful to understand the basic formatting for these input files and their importance in the imputation, as this will facilitate manipulating them in the future. \n",
    "\n",
    "### GENS file\n",
    "\n",
    "The GENS file is the general file type for genotype data in IMPUTE2. Each row represents a different SNP, and the first five columns are: (1) **SNP ID**, (2) **rsID**, (3) **Position (bp)**, (4) **Major Allele**, (5) **Minor Allele**. The sixth column onward represents the genotypic information for all of the individuals, where each individual has three columns representing the probabilities of each genotype. This file does NOT have a header row.\n",
    "\n",
    "### MAP file  \n",
    "\n",
    "The MAP file provides a fine-scale recombination map with three columns: (1) *physical position (in base pairs)*, (2) *recombination rate between current position and next position in map (in cM/Mb)*, (3) *and genetic map position (in cM)*. This information is critical in the process of imputation in that altering rates of recombination in a region will significantly change the likelihoods for imputed SNPs. For example, if there are high rates of recombination between SNP A from your SNP array and desired imputed SNP B, you may have less statistical power or certainty to impute that SNP depending on the depth of your reference haplotypes. Note that this file DOES have a header row. You can always check if a file has one (and you should need to do it for a few times in this lab) simply by opening it with your text editor of choice.\n",
    "\n",
    "*Problem 1*  \n",
    "All the files that begin with the label \"example.chr22\" are from a particular stretch of DNA on chromosome. What position in this stretch has the highest recombination rate? What is it (please include units)?\n",
    "\n",
    "### HAPS file  \n",
    "\n",
    "The HAPS file is a file of reference haplotypes (usually binary), often from a larger project (i.e. 1000 Genomes), which is used during imputation to compare against haplotypes from the inference panel to estimate probabilities for imputed SNPs. Each column represents a distinct haplotype to be used as a reference.  \n",
    "\n",
    "*Problem 2*  \n",
    "How many haplotypes are provided in the example file *example.chr22.hm3.haps*? How many in the example file *example.chr22.1kG.haps*? (hint: one way to look at the number of columns is through `awk '{print NF}'` where `NF` stands for the number of fields)\n",
    "\n",
    "### LEGEND file  \n",
    "\n",
    "The LEGEND file provides information on the HAPS file, so there must be a one-to-one correspondence. Thus, it is generally not wise to edit the HAPS or the LEGEND file, but if you were to do this you would need to edit them in concert. Each LEGEND file provides four columns of information, with each row corresponding to the same row in the HAPS file. The four columns of information are: (1) **rs ID**, (2) **Position (bp)**, (3) **Major Allele**, (4) **Minor Allele**. \n",
    "\n",
    "*Problem 3*  \n",
    "What is the major allele for SNP \"rs1669115\"? What is the minor allele? (hint: `grep` command could be useful)\n",
    "\n",
    "### STRAND file  \n",
    "\n",
    "The STRAND file is a pretty simple but critical file that ensures the reference set and the inference set are comparing the same strand of DNA (similar 5' to 3' distinction). This avoids confusion about ambigous genotype calls -- for example, what one investigator calls a GG call could be called a CC by another investigator looking at the opposing strand of DNA. To denote which strand we use relative to the reference panel, a \"+\" denotes the same strand as the reference panel, and a \"-\" denotes the opposing strand. There are only two columns: (1) **Position (bp)**, (2) **Strand**. You really shouldn't be altering this file unless completely necessary, as it can introduce some very big errors. Although this won't be necessary for today's lab, it is essential to have the strand matched between the reference and imputation panel when imputing data and one should be on guard for \"strand flips\" as an explanation for anomolous results.\n",
    "\n",
    "## Running the imputation {#sec:impute}\n",
    "\n",
    "For getting the hang of running IMPUTE2, we will be imputing the area on the 22nd chromosome between the SNPs sequenced in the example files *\"example.chr.study\"*. These files specify the necessary information for our **inference panel**. Likewise, we have a **reference panel** in this same region specified in the files starting with *\"example.chr.1kG\"*."
   ]
  },
  {
   "cell_type": "code",
   "execution_count": 9,
   "id": "e9413419",
   "metadata": {
    "kernel": "Bash",
    "vscode": {
     "languageId": "shellscript"
    }
   },
   "outputs": [
    {
     "name": "stdout",
     "output_type": "stream",
     "text": [
      "\n",
      "======================\n",
      " IMPUTE version 2.3.2 \n",
      "======================\n",
      "\n",
      "Copyright 2008 Bryan Howie, Peter Donnelly, and Jonathan Marchini\n",
      "Please see the LICENCE file included with this program for conditions of use.\n",
      "\n",
      "The seed for the random number generator is 48101716.\n",
      "\n",
      "Command-line input: ./impute2 -m ./Example/example.chr22.map -h ./Example/example.chr22.1kG.haps -l ./Example/example.chr22.1kG.legend -g ./Example/example.chr22.study.gens -strand_g ./Example/example.chr22.study.strand -int 20.3e6 20.6e6 -Ne 20000 -o ../../output/impute2_output-example.chr22.one.phased.impute2\n",
      "\n",
      "---------------------------------\n",
      " Nomenclature and data structure \n",
      "---------------------------------\n",
      "\n",
      "     Panel 0: phased reference haplotypes\n",
      "     Panel 2: unphased study genotypes\n",
      "\n",
      "For optimal results, each successive panel (0,1,2) should contain a subset of the SNPs in the previous panel. When the data structure deviates from this ideal configuration, IMPUTE2 tries to use as much of the available information as possible; see documentation for details.\n",
      "\n",
      "-------------\n",
      " Input files \n",
      "-------------\n",
      "\n",
      "         Panel 0 haplotypes: ./Example/example.chr22.1kG.haps\n",
      "         Panel 0 hap legend: ./Example/example.chr22.1kG.legend\n",
      "          Panel 2 genotypes: ./Example/example.chr22.study.gens\n",
      "        Panel 2 strand info: ./Example/example.chr22.study.strand\n",
      "                genetic map: ./Example/example.chr22.map\n",
      "\n",
      "--------------\n",
      " Output files \n",
      "--------------\n",
      "\n",
      "                main output: ../../output/impute2_output-example.chr22.one.phased.impute2\n",
      "                SNP QC info: ../../output/impute2_output-example.chr22.one.phased.impute2_info\n",
      "             sample QC info: ../../output/impute2_output-example.chr22.one.phased.impute2_info_by_sample\n",
      "                run summary: ../../output/impute2_output-example.chr22.one.phased.impute2_summary\n",
      "                warning log: ../../output/impute2_output-example.chr22.one.phased.impute2_warnings\n",
      "\n",
      "-----------------\n",
      " Data processing \n",
      "-----------------\n",
      "\n",
      "-reading genetic map from -m file\n",
      " --filename=[./Example/example.chr22.map]\n",
      " --read 262 SNPs in the analysis interval+buffer region\n",
      "\n",
      "-reading strand info for Panel 2 from -strand_g file\n",
      " --filename=[./Example/example.chr22.study.strand]\n",
      " --read strand info for 33 SNPs in the analysis region\n",
      "\n",
      "-reading Panel 2 genotypes from -g file\n",
      " --filename=[./Example/example.chr22.study.gens]\n",
      " --detected 250 individuals\n",
      " --read 33 SNPs in the analysis interval+buffer region\n",
      "\n",
      "-using -strand_g file to align Panel 2 allele labels\n",
      " --flipped strand at 14 out of 33 SNPs\n",
      "\n",
      "-reading Panel 0 haplotypes from -h and -l files\n",
      " --filename=[./Example/example.chr22.1kG.haps]\n",
      " --filename=[./Example/example.chr22.1kG.legend]\n",
      " --detected 112 haplotypes\n",
      " --read 790 SNPs in the analysis interval+buffer region\n",
      "\n",
      "-removing SNPs that violate the hierarchical data requirements\n",
      " --no SNPs removed\n",
      "\n",
      "-removing reference-only SNPs from buffer region\n",
      " --removed 0 SNPs\n",
      "\n",
      "-checking strand alignment between Panel 2 and Panel 0 by allele labels\n",
      " --flipped strand due to allele mismatch at 0 out of 33 SNPs in Panel 2\n",
      "\n",
      "-aligning allele labels between panels\n",
      "\n",
      "-removing non-aligned genotyped SNPs\n",
      " --removed 0 out of 27 SNPs with data in multiple panels\n",
      "\n",
      "--------------\n",
      " Data summary \n",
      "--------------\n",
      "\n",
      "[type 0 = SNP in Panel 0 only]\n",
      "[type 1 = SNP in Panel 1]\n",
      "[type 2 = SNP in Panel 2 and all ref panels]\n",
      "[type 3 = SNP in Panel 2 only]\n",
      "\n",
      "-Upstream buffer region\n",
      " --0 type 0 SNPs\n",
      " --0 type 1 SNPs\n",
      " --0 type 2 SNPs\n",
      " --0 type 3 SNPs\n",
      " --0 total SNPs\n",
      "\n",
      "-Downstream buffer region\n",
      " --0 type 0 SNPs\n",
      " --0 type 1 SNPs\n",
      " --0 type 2 SNPs\n",
      " --0 type 3 SNPs\n",
      " --0 total SNPs\n",
      "\n",
      "-Analysis region (as defined by -int argument)\n",
      " --763 type 0 SNPs\n",
      " --0 type 1 SNPs\n",
      " --27 type 2 SNPs\n",
      " --6 type 3 SNPs\n",
      " --796 total SNPs\n",
      "\n",
      "-Output file\n",
      " --763 type 0 SNPs\n",
      " --0 type 1 SNPs\n",
      " --27 type 2 SNPs\n",
      " --6 type 3 SNPs\n",
      "\n",
      "-In total, 796 SNPs will be used in the analysis, including 27 Panel 2 SNPs\n",
      "\n",
      "-making initial haplotype guesses for Panel 2 by phasing hets at random and imputing missing genotypes from allele freqs\n",
      "\n",
      "-setting storage space\n",
      "-setting mutation matrices\n",
      "-setting switch rates\n",
      "\n",
      "----------------\n",
      " Run parameters \n",
      "----------------\n",
      "\n",
      "        reference haplotypes: 112 [Panel 0]\n",
      "           study individuals: 250 [Panel 2]\n",
      "           sequence interval: [20300000,20600000]\n",
      "                      buffer: 250 kb\n",
      "                          Ne: 20000\n",
      "           input call thresh: 0.900\n",
      "     burn-in MCMC iterations: 10\n",
      "       total MCMC iterations: 30 (20 used for inference)\n",
      "      HMM states for phasing: 80 [Panel 2]\n",
      "   HMM states for imputation: 112 [Panel 0->2]\n",
      "\n",
      "---------\n",
      " Run log \n",
      "---------\n",
      "\n",
      "MCMC iteration [1/30]\n",
      "\n",
      "MCMC iteration [2/30]\n",
      "\n",
      "MCMC iteration [3/30]\n",
      "\n",
      "RESETTING PARAMETERS FOR \"SURROGATE FAMILY\" MODELING\n",
      "-setting mutation matrices\n",
      "-setting switch rates\n",
      "\n",
      "MCMC iteration [4/30]\n",
      "\n",
      "MCMC iteration [5/30]\n",
      "\n",
      "MCMC iteration [6/30]\n",
      "\n",
      "MCMC iteration [7/30]\n",
      "\n",
      "MCMC iteration [8/30]\n",
      "\n",
      "MCMC iteration [9/30]\n",
      "\n",
      "MCMC iteration [10/30]\n",
      "\n",
      "MCMC iteration [11/30]\n",
      "\n",
      "MCMC iteration [12/30]\n",
      "\n",
      "MCMC iteration [13/30]\n",
      "\n",
      "MCMC iteration [14/30]\n",
      "\n",
      "MCMC iteration [15/30]\n",
      "\n",
      "MCMC iteration [16/30]\n",
      "\n",
      "MCMC iteration [17/30]\n",
      "\n",
      "MCMC iteration [18/30]\n",
      "\n",
      "MCMC iteration [19/30]\n",
      "\n",
      "MCMC iteration [20/30]\n",
      "\n",
      "MCMC iteration [21/30]\n",
      "\n",
      "MCMC iteration [22/30]\n",
      "\n",
      "MCMC iteration [23/30]\n",
      "\n",
      "MCMC iteration [24/30]\n",
      "\n",
      "MCMC iteration [25/30]\n",
      "\n",
      "MCMC iteration [26/30]\n",
      "\n",
      "MCMC iteration [27/30]\n",
      "\n",
      "MCMC iteration [28/30]\n",
      "\n",
      "MCMC iteration [29/30]\n",
      "\n",
      "MCMC iteration [30/30]\n",
      "\n",
      "\n",
      "diploid sampling success rate: 0.987\n",
      "\n",
      "haploid sampling success rate: (no haploid sampling performed)\n",
      "\n",
      "\n",
      "--------------------------------\n",
      " Imputation accuracy assessment \n",
      "--------------------------------\n",
      "\n",
      "The table below is based on an internal cross-validation that is performed during each IMPUTE2 run. For this analysis, the program masks the genotypes of one variant at a time in the study data (Panel 2) and imputes the masked genotypes by using the remaining study and reference data. The imputed genotypes are then compared with the original genotypes to produce the concordance statistics shown in the table. You can learn more about this procedure and the contents of the table at http://mathgen.stats.ox.ac.uk/impute/concordance_table_description.html.\n",
      "\n",
      "In the current analysis, IMPUTE2 masked, imputed, and evaluated 6715 genotypes that were called with high confidence (maximum probability >= 0.90) in the Panel 2 input file (-g or -known_haps_g).\n",
      "\n",
      "When the masked study genotypes were imputed with reference data from Panel 0, the concordance between original and imputed genotypes was as follows:\n",
      "\n",
      "  Interval  #Genotypes %Concordance         Interval  %Called %Concordance\n",
      "  [0.0-0.1]          0          0.0         [ >= 0.0]   100.0         93.4\n",
      "  [0.1-0.2]          0          0.0         [ >= 0.1]   100.0         93.4\n",
      "  [0.2-0.3]          0          0.0         [ >= 0.2]   100.0         93.4\n",
      "  [0.3-0.4]          0          0.0         [ >= 0.3]   100.0         93.4\n",
      "  [0.4-0.5]         63         49.2         [ >= 0.4]   100.0         93.4\n",
      "  [0.5-0.6]        237         57.8         [ >= 0.5]    99.1         93.8\n",
      "  [0.6-0.7]        123         59.3         [ >= 0.6]    95.5         95.2\n",
      "  [0.7-0.8]        215         80.5         [ >= 0.7]    93.7         95.9\n",
      "  [0.8-0.9]        343         81.6         [ >= 0.8]    90.5         96.4\n",
      "  [0.9-1.0]       5734         97.3         [ >= 0.9]    85.4         97.3\n",
      "\n",
      "Have a nice day!\n"
     ]
    }
   ],
   "source": [
    "# in the directory where impute2 executable locates\n",
    "./impute2 \\\n",
    "  -m ./Example/example.chr22.map \\\n",
    "  -h ./Example/example.chr22.1kG.haps \\\n",
    "  -l ./Example/example.chr22.1kG.legend \\\n",
    "  -g ./Example/example.chr22.study.gens \\\n",
    "  -strand_g ./Example/example.chr22.study.strand \\\n",
    "  -int 20.3e6 20.6e6 \\\n",
    "  -Ne 20000 \\\n",
    "  -o ../../output/impute2_output-example.chr22.one.phased.impute2 #remember to create a folder called 'output' in your lab3 directory\n"
   ]
  },
  {
   "cell_type": "markdown",
   "id": "13a4534f",
   "metadata": {
    "kernel": "SoS"
   },
   "source": [
    "Note that you will need to be in the directory where you have unpacked the impute2 tarball, and where you can see the *Example* directory listed out, in order for this call to work. \n",
    "\n",
    "This should create five files in the specified output directory, all of which should start with *\"impute2_output-example.chr22.one.phased.impute2\"*. The file with the actual imputed genotypes in GENS format should be the file *just* called *\"impute2_output-example.chr22.one.phased.impute2\"*. Other supplementary output files have underscores and then IDs: **\"warning\"** gives any errors during the imputation process, **\"summary\"** is just a log file, **\"info\"** gives a variety of information for each SNP as demonstrated in the header, and **\"info by sample\"** gives information by individuals instead of by SNP. \n",
    "\n",
    "*Problem 4*  \n",
    "Open the summary file in a text editor and scroll down to line 60 (L60), where it should mention 'flipping strands'. What does it say and how would you interpret this? \n",
    "\n",
    "## Using GTOOL post-imputation\n",
    "\n",
    "GTOOL is a command-line program that facilitates conversion between PLINK and IMPUTE2 file formats. The program is well documented, and it is recommended that you visit the documentation on the website for any purposes outside this lab (http://www.well.ox.ac.uk/~cfreeman/software/gwas/gtool.html).\n",
    "\n",
    "### Run GTOOL \n",
    "\n",
    "Go back to your *software* directory and **use the following command to Run GTOOL**:"
   ]
  },
  {
   "cell_type": "code",
   "execution_count": 61,
   "id": "ae55ae9d-ad0a-44b6-81e3-d076bbf1b1b8",
   "metadata": {
    "kernel": "Bash",
    "vscode": {
     "languageId": "shellscript"
    }
   },
   "outputs": [
    {
     "name": "stdout",
     "output_type": "stream",
     "text": [
      "\u001b[0m\u001b[01;34mexample\u001b[0m  \u001b[01;32mgtool\u001b[0m  gtool.log  LICENCE\n"
     ]
    }
   ],
   "source": [
    "#mkdir GTOOL\n",
    "cd ../../GTOOL\n",
    "ls\n",
    "chmod a+x ./gtool "
   ]
  },
  {
   "cell_type": "markdown",
   "id": "1ad48f1e",
   "metadata": {
    "kernel": "SoS"
   },
   "source": [
    "### Basic GTOOL usage {#sec:gtool}\n",
    "\n",
    "Here we will practice using GTOOL on one of the small GENS files with only 33 markers from the IMPUTE2 *\"Example/\"* directory, *\"example.chr22.study.gens\"*. We will need to provide this file, as well as a list of samples \"example.study.samples\" in the same directory."
   ]
  },
  {
   "cell_type": "code",
   "execution_count": 62,
   "id": "fb00a36c",
   "metadata": {
    "kernel": "Bash",
    "vscode": {
     "languageId": "shellscript"
    }
   },
   "outputs": [
    {
     "name": "stdout",
     "output_type": "stream",
     "text": [
      "./gtool -G --g ../IMPUTE2/impute_v2.3.2_x86_64_static/Example/example.chr22.study.gens --s ../IMPUTE2/impute_v2.3.2_x86_64_static/Example/example.study.samples --ped ../../output/gtool_output-real_small.ped --map ../../output/gtool_output-real_small.map --threshold 0.9\n",
      "Count SNPs and samples...\n",
      "Number of samples: 250\n",
      "Number of SNPs: 33\n",
      "Sample...\n",
      "Assign memory for genotypes...16500\n",
      "Gen...\n",
      "Number of missing loci: 65\n",
      "Output...\n"
     ]
    }
   ],
   "source": [
    "# in the directory where gtool executable locates\n",
    "./gtool \\\n",
    "  -G \\\n",
    "  --g ../IMPUTE2/impute_v2.3.2_x86_64_static/Example/example.chr22.study.gens \\\n",
    "  --s ../IMPUTE2/impute_v2.3.2_x86_64_static/Example/example.study.samples \\\n",
    "  --ped ../../output/gtool_output-real_small.ped \\\n",
    "  --map ../../output/gtool_output-real_small.map \\\n",
    "  --threshold 0.9"
   ]
  },
  {
   "cell_type": "markdown",
   "id": "dd675864",
   "metadata": {
    "kernel": "SoS"
   },
   "source": [
    "Don't forget that you will need to modify this command to find your own gtool executable. You may also need to modify the paths to the example.chr22 and example.study.samples files (These are example files from IMPUTE2), based on where those are in your workspace. \n",
    "\n",
    "Before running your GTOOL command, take a minute to look at the arguments of gtool. One important parameter is the **\"--threshold\"** argument. This tells GTOOL the likelihood cut-off for a genotype at any given SNP. For example, in our command, any likelihood below 0.9 at a given SNP will produce a \"missing genotype\" for PLINK. \n",
    "\n",
    "*Problem 5*  \n",
    "Recalling your knowledge of the structure of PED files, what do you notice about both the phenotype and gender information in the file we just converted (\"gtool_output-real_small.ped\")?\n",
    "\n",
    "# Run a Case-Control GWAS with/without Imputation\n",
    "\n",
    "In this section we will use the skills we have learned in the first section to simulate a scenario in which you have localized a region through previous work on the 22nd chromosome that is associated with Disease XXX. You will need to use commands from PLINK, GTOOL, and IMPUTE2 to work through these scenarios (consult previous labs if you have trouble remembering how to run certain code), in which you will run an association, identify the SNP on your array, convert data to IMPUTE2 format, and impute unobserved SNPs for another association in an attempt to get a more precise estimate of the associated SNP.\n",
    "\n",
    "To give you an overview, suppose our collaborator give you genotype data (files shared with IMPUTE2 software) along with phenotype file (`phenotype.txt` in shared data). \n",
    "We'd like to run GWAS with the raw genotypes and the imputed genotypes.\n",
    "And see how they could be different from each other.\n",
    "\n",
    "## Running an initial GWAS\n",
    "\n",
    "Note that to run GWAS using PLINK, we first convert the genotype into PED format using GTOOL. This step has been done by [this section](#sec:gtool). Here, you will run an initial GWAS on a set of 33 markers in the file *\"gtool_output-real_small\"*. For the sake of this exercise, assume that these 33 markers restricted to a small section of chromosome 22 (20303319-20596808bp) are part of a larger GWAS that you ran with a total of 100,000 SNPs. In that study, you identified this region, and now you want to pursue your study further with imputation. Just to check that everything is working correctly, you want to check the reduced set (33 markers) with a GWAS.\n",
    "\n",
    "*Problem 6*  \n",
    "Run a basic association (--assoc) on the *\"gtool_output-real_small\"* dataset (it should be the output generated in [this section](#sec:gtool)) and name the resulting files with *\"gwas_raw\"*. Show the commands you used. Hint: You may need the \"--allow-no-sex\" and \"--pheno\" flag. \n",
    "\n",
    "*Problem 7*  \n",
    "According to this analysis, what is the most highly associated SNP? What is the unadjusted p-value? What do you think this SNP's adjusted (Bonferroni-correction) p-value should be?\n",
    "\n",
    "## Manhattan plot of initial GWAS\n",
    "\n",
    "*Problem 8*  \n",
    "Use the knowledge gained in Lab 2 to export the *.assoc* file and produce a Manhattan plot in R. Make sure to include the Bonferroni-corrected significance threshold.\n",
    "\n",
    "## Imputation and conversion\n",
    "\n",
    "Imputation for this set of 33 markers was completed in [here](#sec:impute). The files you produced should be called *\"impute2_output-example.chr22.one.phased.impute2\"*. Let's take this GENS file and convert it to PED format.\n",
    "\n",
    "*Problem 9*  \n",
    "Using GTOOL, convert the file *\"impute2_output-example.chr22.one.phased.impute2\"* to PED format, and name the outputs with *\"imputed-example.chr22.one.phased\"*. \n",
    "Show your command.\n",
    "\n",
    "## Running a GWAS with Imputed SNPs\n",
    "\n",
    "*Problem 10*\n",
    "Once you have your converted and reformatted PED and MAP files named *\"imputed-example.chr22.one.phased\"*, we can now run GWAS with imputed genotypes. Name the output files as *\"gwas_imputed\"*. Show your command.\n",
    "\n",
    "*Problem 11*  \n",
    "Find the most highly associated SNP in the *\"gwas_imputed.assoc\"* file. What SNP is it? What is the non-adjusted p-value? \n",
    "\n",
    "## Manhattan Plot of Imputed GWAS\n",
    "\n",
    "Lastly, we will visualize the results of our GWAS with imputed SNPs by exporting our *.assoc\"* file to our computer and plot it using R.\n",
    "\n",
    "*Problem 12*  \n",
    "Produce a Manhattan plot for the file *\"gwas_imputed.assoc\"* in R. Describe the differences between this plot and the plot from *\"gwas_raw.assoc\"* in a couple of sentences."
   ]
  }
 ],
 "metadata": {
  "kernelspec": {
   "display_name": "SoS",
   "language": "sos",
   "name": "sos"
  },
  "language_info": {
   "codemirror_mode": "sos",
   "file_extension": ".sos",
   "mimetype": "text/x-sos",
   "name": "sos",
   "nbconvert_exporter": "sos_notebook.converter.SoS_Exporter",
   "pygments_lexer": "sos"
  },
  "sos": {
   "kernels": [
    [
     "Bash",
     "calysto_bash",
     "Bash",
     "#E6EEFF",
     "shell"
    ]
   ],
   "version": ""
  }
 },
 "nbformat": 4,
 "nbformat_minor": 5
}
