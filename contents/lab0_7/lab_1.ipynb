{
 "cells": [
  {
   "cell_type": "markdown",
   "id": "180a8538",
   "metadata": {
    "kernel": "SoS",
    "tags": []
   },
   "source": [
    "---\n",
    "# Lab 1: Genotype data manipulation and simulation  \n",
    "date:   Fri Jan 12 2024  \n",
    "modified date: Sun June 16 2024  \n",
    "categories: [midway, local, Posit cloud] # to help you decide where you can run this markdown comfortably  \n",
    "output:  \n",
    "  &ensp; html_document:  \n",
    "    &emsp; toc: true  \n",
    "    &emsp; toc_float: true  \n",
    "     &emsp; highlight: textmate  \n",
    "     &emsp; number_sections: true  \n",
    "    \n",
    "---\n",
    "\n",
    "*Created by Max Winston with contributions from Charles Washington III, Ankeeta Shah, Yanyu Liang, Erik McIntire, and Jing Gu*  \n",
    "*Modified by Ethan Zhong for Winter 2023*  \n",
    "*Modified by Temi Adeluwa for Winter 2024*  \n",
    "*Modified by Weigang Zheng for Summer 2024* \n",
    "\n",
    "\n",
    "\n",
    "# Introduction\n",
    "This lab section is dedicated to learning how to download HapMap data and manipulate the appropriate files in a command-line program named PLINK. Additionally, in R we will import data files and generate our own data natively. By the end of this lab, you should be able to: \n",
    "\n",
    "- **Organize files and folders in Unix**\n",
    "- **Know about PED and BED files**\n",
    "- **Use PLINK to generate statistics on HapMap data**\n",
    "- **Import data files into R**\n",
    "- **Simulate genotypes using R**\n",
    "\n",
    "# Question from last week's lab\n",
    "Q: Does Unix sort command take file header into account?\n",
    "\n",
    "A: The short answer is, yes. Let's take a look at this example from last week. Recall we want to sort the file with respect to the second column (the recombination rate), and we want the order to be from the largest to the smallest. Here's the code:"
   ]
  },
  {
   "cell_type": "code",
   "execution_count": 2,
   "id": "be645376",
   "metadata": {
    "attributes": {
     "classes": [],
     "eval": "F",
     "id": ""
    },
    "kernel": "Bash",
    "tags": []
   },
   "outputs": [],
   "source": [
    "cd / <your_directory>/HGEN471-class/labs/data/lab0/impute_v2.3.2_x86_64_static/Example/ # you should change this\n",
    "cat example.chr22.map | sort -k2nr | head > top_ten.map"
   ]
  },
  {
   "cell_type": "markdown",
   "id": "3f8cc0ae",
   "metadata": {
    "kernel": "SoS"
   },
   "source": [
    "When you open top_ten.map file, the header in the original file disappears. Does that mean Unix sort ignores the header by default? No! If you enter the following code, you should see the header at the bottom of the output:"
   ]
  },
  {
   "cell_type": "code",
   "execution_count": 3,
   "id": "1412e2a5",
   "metadata": {
    "attributes": {
     "classes": [],
     "eval": "F",
     "id": ""
    },
    "kernel": "Bash",
    "tags": []
   },
   "outputs": [
    {
     "name": "stdout",
     "output_type": "stream",
     "text": [
      "20411664 13.0226407446 15.1507605716\n",
      "20411573 12.9982855897 15.1495777276\n",
      "20330596 5.9037962273 15.0846261117\n",
      "20328509 5.890630061 15.0723323668\n",
      "20412603 5.5761478002 15.1629888312\n",
      "20428687 4.5688678893 15.1822320092\n",
      "20313260 4.5049001587 15.0118962266\n",
      "20327574 4.322304291 15.0682910123\n",
      "20315094 4.0878035112 15.0201582135\n",
      "20327070 3.9760607519 15.0662870777\n",
      "20318524 3.8924858072 15.0341793795\n",
      "20323067 3.7736969991 15.0511809686\n",
      "20318599 3.7438828072 15.034471316\n",
      "20319621 3.7386547837 15.0382975642\n",
      "20590576 3.6181192444 15.2078376498\n",
      "20410878 2.8798024724 15.1475762648\n",
      "20409226 2.8671756145 15.1428396907\n",
      "20409163 2.7980241008 15.1426634152\n",
      "20412788 2.7289616123 15.1640204186\n",
      "20407124 2.272056014 15.138030693\n",
      "20406405 2.1876744175 15.1364577551\n",
      "20399340 2.1329899872 15.1213881808\n",
      "20591388 1.9628451001 15.2107755627\n",
      "20557038 1.6944730828 15.19591012\n",
      "20414461 1.5973458833 15.1685859713\n",
      "20590441 1.4523932097 15.2076415767\n",
      "20365951 1.2574608881 15.1136966735\n",
      "20375603 1.235845922 15.1148607503\n",
      "20376111 1.1168228255 15.1154885601\n",
      "20350694 1.0707435846 15.1092322995\n",
      "20352005 1.0090672665 15.1106360443\n",
      "20423592 0.8622034933 15.1778455921\n",
      "20426802 0.8607517426 15.1806094922\n",
      "20416373 0.8596059572 15.1716400967\n",
      "20425920 0.8588471084 15.1798528018\n",
      "20426377 0.8569347872 15.1802452949\n",
      "20592369 0.7310859577 15.2111356791\n",
      "20312892 0.7028679761 15.0116375712\n",
      "20594027 0.6996973769 15.2123478196\n",
      "20594089 0.6991873748 15.2123912009\n",
      "20594844 0.6791675661 15.2129190873\n",
      "20534793 0.6373666238 15.1931473462\n",
      "20529970 0.5957263951 15.1927537877\n",
      "20595288 0.5402509156 15.2132206377\n",
      "20544572 0.5274930448 15.194302856\n",
      "20543969 0.5265042322 15.1939853739\n",
      "20592261 0.5261851856 15.2110788511\n",
      "20385394 0.4936809103 15.1178681761\n",
      "20429295 0.4656147364 15.1850098809\n",
      "20430288 0.4315219625 15.1854722364\n",
      "20432482 0.4303811691 15.1864127376\n",
      "20433033 0.4303536166 15.1866498776\n",
      "20433423 0.4303536166 15.1868177155\n",
      "20430718 0.4279743492 15.1856577908\n",
      "20431375 0.4279743492 15.1859389699\n",
      "20550074 0.4243672931 15.19485044\n",
      "20434873 0.3503742735 15.1874417282\n",
      "20544746 0.3344261908 15.1943946398\n",
      "20349676 0.3300906733 15.1088962672\n",
      "20592057 0.329076063 15.2110117196\n",
      "20387273 0.3280069458 15.1187958026\n",
      "20595554 0.3266361908 15.2133643445\n",
      "20435393 0.3200783124 15.1876239229\n",
      "20366200 0.307305194 15.1140097812\n",
      "20344922 0.3039613755 15.1075596092\n",
      "20385280 0.302736819 15.1178336641\n",
      "20333928 0.301803093 15.1042975608\n",
      "20335629 0.2996512505 15.1048109278\n",
      "20335687 0.2981848692 15.1048283076\n",
      "20335719 0.2981179302 15.1048378495\n",
      "20336219 0.296373024 15.1049869085\n",
      "20340918 0.2957598775 15.1063762171\n",
      "20337807 0.2956321479 15.1054565055\n",
      "20336440 0.2956097534 15.1050524069\n",
      "20342772 0.2954042252 15.1069245559\n",
      "20344764 0.2949878071 15.1075130011\n",
      "20458678 0.2912138854 15.1900953555\n",
      "20345144 0.2873400778 15.1076270886\n",
      "20312340 0.2869703936 15.0114791635\n",
      "20435582 0.2859947515 15.1876844177\n",
      "20523334 0.2852462602 15.1919723341\n",
      "20345234 0.2799004849 15.1076529492\n",
      "20312249 0.279595795 15.0114537203\n",
      "20309584 0.2715315245 15.0107300888\n",
      "20310894 0.2715315245 15.0110857951\n",
      "20596065 0.2672849935 15.2135312556\n",
      "20376787 0.2664344542 15.1162435323\n",
      "20435976 0.2579106151 15.1877970996\n",
      "20596577 0.2548481355 15.2136681055\n",
      "20596808 0.2497418737 15.2137269754\n",
      "20601061 0.2490109449 15.2147763333\n",
      "20596938 0.2478944536 15.2137594418\n",
      "20599114 0.2454129003 15.2142988602\n",
      "20599877 0.2451208437 15.2144861102\n",
      "20354150 0.2385226471 15.1128004936\n",
      "20436535 0.2224923907 15.1879412716\n",
      "20516442 0.2201537443 15.1918172868\n",
      "20514133 0.220146709 15.191308968\n",
      "20375027 0.2185442375 15.1147348689\n",
      "20398740 0.21056007 15.1212618448\n",
      "20397722 0.209539956 15.1210499249\n",
      "20398517 0.2083653206 15.1212153793\n",
      "20398139 0.2065508658 15.1211373031\n",
      "20395251 0.2023488787 15.1205499209\n",
      "20388586 0.1993014616 15.1192264757\n",
      "20392213 0.1989777588 15.1199493421\n",
      "20394422 0.198632368 15.1203852546\n",
      "20591447 0.1972935388 15.2108913705\n",
      "20394395 0.1966598982 15.1203799448\n",
      "20393337 0.1956065554 15.1201729931\n",
      "20436618 0.1910088906 15.1879597385\n",
      "20378862 0.1857979842 15.1167963838\n",
      "20458541 0.1843176521 15.190070104\n",
      "20437190 0.1842560711 15.1880689956\n",
      "20440627 0.180417576 15.1886912901\n",
      "20441285 0.1803519827 15.1888100049\n",
      "20441308 0.1803519827 15.188814153\n",
      "20441900 0.1803519827 15.1889209213\n",
      "20442527 0.1803024673 15.189034002\n",
      "20437865 0.1802919945 15.1881933684\n",
      "20439381 0.1802821406 15.1884666911\n",
      "20439821 0.1802590009 15.1885460014\n",
      "20439596 0.1802316511 15.1885054517\n",
      "20439736 0.1802021087 15.1885306842\n",
      "20442802 0.1799831014 15.1890835826\n",
      "20443688 0.1799831014 15.1892430477\n",
      "20443887 0.1799831014 15.1892788643\n",
      "20442794 0.1799785966 15.1890821428\n",
      "20549449 0.1746516317 15.1947412827\n",
      "20444036 0.1720428458 15.1893056818\n",
      "20516479 0.1612301146 15.1918254324\n",
      "20374983 0.1591418505 15.1147278666\n",
      "20384607 0.1588813872 15.1177267369\n",
      "20383880 0.1588404876 15.1176112599\n",
      "20379783 0.1572577686 15.1169675037\n",
      "20381583 0.1571521972 15.1172505677\n",
      "20381709 0.157029296 15.1172703689\n",
      "20382814 0.1570109228 15.1174438863\n",
      "20309289 0.1546250075 15.0106844744\n",
      "20444538 0.1518714961 15.1893920473\n",
      "20366346 0.136834962 15.1140546478\n",
      "20374386 0.1296901036 15.1146504416\n",
      "20542974 0.1256291272 15.1938603729\n",
      "20542469 0.1254964503 15.1937969972\n",
      "20445004 0.1207918134 15.1894628194\n",
      "20550816 0.1197041963 15.1951653205\n",
      "20486789 0.1156071718 15.1904267525\n",
      "20516538 0.1038914991 15.191834945\n",
      "20374240 0.1034537531 15.1146353374\n",
      "20373782 0.1026675179 15.1145883157\n",
      "20354990 0.099374082 15.1130008526\n",
      "20492126 0.0898064551 15.191043748\n",
      "20445353 0.0884247457 15.1895049757\n",
      "20366512 0.0870464335 15.1140773624\n",
      "20366640 0.0861088021 15.1140885044\n",
      "20455040 0.0857909641 15.1897697498\n",
      "20457490 0.0857909641 15.1899799377\n",
      "20372440 0.0851757777 15.1144740098\n",
      "20459215 0.0826302067 15.1902517374\n",
      "20309096 0.0822040358 15.0106686091\n",
      "20563205 0.0783633812 15.2063599355\n",
      "20367188 0.0760857858 15.114135692\n",
      "20372318 0.0754247156 15.1144648079\n",
      "20355476 0.0721961058 15.1130491484\n",
      "20453650 0.0670574026 15.1896765401\n",
      "20371601 0.0668031644 15.1144169101\n",
      "20544889 0.065530697 15.1944424627\n",
      "20371438 0.0645260252 15.1144063923\n",
      "20367223 0.0639443186 15.114138355\n",
      "20367725 0.0636363836 15.114170455\n",
      "20368458 0.0636049787 15.1142171005\n",
      "20368826 0.0635656027 15.1142405071\n",
      "20369199 0.0635392149 15.1142642171\n",
      "20369863 0.0635097469 15.1143064071\n",
      "20370295 0.063477582 15.1143338433\n",
      "20370713 0.0634694689 15.114360377\n",
      "20357568 0.0616881037 15.1131802093\n",
      "20355670 0.0616795535 15.1130631545\n",
      "20357617 0.0616535097 15.113183232\n",
      "20358124 0.0616228911 15.1132144903\n",
      "20357348 0.0616206084 15.1131666528\n",
      "20362991 0.0615758553 15.113514409\n",
      "20459724 0.0614308683 15.1902937962\n",
      "20564414 0.060398891 15.2064546768\n",
      "20511478 0.0590158095 15.191152281\n",
      "20513980 0.0590158095 15.1912999386\n",
      "20525075 0.0581899488 15.1924689479\n",
      "20516562 0.049140848 15.1918374384\n",
      "20492374 0.0458022295 15.19106602\n",
      "20567202 0.0448488146 15.2066230689\n",
      "20575063 0.0434974884 15.2069756255\n",
      "20588434 0.043482923 15.2075543065\n",
      "20587652 0.0433076911 15.2075204399\n",
      "20585000 0.0433001569 15.2074056079\n",
      "20586773 0.0433001569 15.2074823791\n",
      "20577343 0.043223173 15.2070747997\n",
      "20581794 0.0431758596 15.2072671861\n",
      "20583023 0.0431758596 15.2073202492\n",
      "20521585 0.0406442397 15.1919012474\n",
      "20451554 0.0366264674 15.189599771\n",
      "20452149 0.0366264674 15.1896215637\n",
      "20453189 0.0366264674 15.1896596553\n",
      "20445498 0.03648143 15.1895177973\n",
      "20541315 0.0282412179 15.1937644069\n",
      "20460945 0.0244698408 15.1903688032\n",
      "20521575 0.0242660809 15.1919010047\n",
      "20492993 0.0220813844 15.1910943716\n",
      "20451317 0.0219693453 15.1895945642\n",
      "20451327 0.0219693453 15.1895947839\n",
      "20540135 0.0195059663 15.1937413898\n",
      "20445886 0.0187789552 15.1895319521\n",
      "20539139 0.0166477548 15.1937248087\n",
      "20535611 0.0159003798 15.1936687121\n",
      "20308447 0.0149096257 15.0106589327\n",
      "20530530 0.0140632825 15.1930873945\n",
      "20520163 0.0129937064 15.1918826576\n",
      "20450234 0.0118728628 15.1895817059\n",
      "20446202 0.0118070102 15.1895378863\n",
      "20450153 0.0116504303 15.1895807622\n",
      "20449703 0.0109989925 15.1895758127\n",
      "20446467 0.0107580052 15.1895410151\n",
      "20447502 0.0107510367 15.1895521497\n",
      "20518183 0.0100788428 15.1918627015\n",
      "20517093 0.009752157 15.1918521071\n",
      "20516803 0.0097440068 15.1918492814\n",
      "20517660 0.0096842865 15.1918576366\n",
      "20307678 0.0064162016 15.0106539986\n",
      "20307769 0.0064162016 15.0106545825\n",
      "20307229 0.0057556778 15.0106514143\n",
      "20299958 0.0056794611 15.0106101777\n",
      "20301041 0.0056794611 15.0106163286\n",
      "20303319 0.0056794611 15.0106292664\n",
      "20304703 0.0056570324 15.0106371268\n",
      "20306934 0.0056499678 15.0106497476\n",
      "20493425 0.0053654032 15.1911039107\n",
      "20493633 0.0053654032 15.1911050268\n",
      "20510183 0.0041874182 15.1911468583\n",
      "20485119 0.0036394267 15.1904206747\n",
      "20461125 0.0032744226 15.1903732078\n",
      "20508791 0.0023235392 15.191143624\n",
      "20495557 0.0021364792 15.1911153498\n",
      "20501102 0.0021364792 15.1911271966\n",
      "20501567 0.0021364792 15.19112819\n",
      "20503358 0.0021364792 15.1911320165\n",
      "20503907 0.0021364792 15.1911331894\n",
      "20505985 0.0021364792 15.191137629\n",
      "20507299 0.0021364792 15.1911404363\n",
      "20484018 0.0020717433 15.1904183937\n",
      "20481286 0.0019158392 15.1904131596\n",
      "20481821 0.0019158392 15.1904141846\n",
      "20483239 0.0019158392 15.1904169013\n",
      "20462156 0.0019119645 15.1903765837\n",
      "20466398 0.0019119645 15.1903846943\n",
      "20470707 0.0019119645 15.190392933\n",
      "20470887 0.0019119645 15.1903932771\n",
      "20471825 0.0019119645 15.1903950705\n",
      "20472840 0.0019119645 15.1903970112\n",
      "20475101 0.0019119645 15.1904013341\n",
      "20475253 0.0019119645 15.1904016247\n",
      "20476399 0.0019119645 15.1904038159\n",
      "20478021 0.0019119645 15.1904069171\n",
      "20480982 0.0019119645 15.1904125784\n",
      "position COMBINED_rate.cM.Mb. Genetic_Map.cM.\n"
     ]
    }
   ],
   "source": [
    "cat example.chr22.map | sort -k2nr > sorted.map\n",
    "cat sorted.map"
   ]
  },
  {
   "cell_type": "markdown",
   "id": "dd12d6b9",
   "metadata": {
    "kernel": "SoS"
   },
   "source": [
    "Because we asked the system to treat the second column as numerical values (\"n\" in \"-k2nr\"), the file header (which consists of string characters) got dumped to the end.\n",
    "\n",
    "But what if you want to keep the header after sorting? Here's my solution to the problem. Maybe you can come up with a simpler one!"
   ]
  },
  {
   "cell_type": "code",
   "execution_count": 4,
   "id": "20948db4",
   "metadata": {
    "attributes": {
     "classes": [],
     "eval": "F",
     "id": ""
    },
    "kernel": "Bash",
    "tags": []
   },
   "outputs": [],
   "source": [
    "cat example.chr22.map | awk 'NR == 1 {print;next} {print | \"sort -k2nr\"}' > sorted_header.map"
   ]
  },
  {
   "cell_type": "markdown",
   "id": "25d2bc42",
   "metadata": {
    "kernel": "SoS"
   },
   "source": [
    "# Logging in and moving files\n",
    "\n",
    "For the remainder of the document, please notice that steps requiring actions will generally be in bold. For example, **Open Terminal** in Posit Cloud.\n",
    "\n",
    "Each of you should have been assigned a username on the server. You will use a Secure Shell client to log in to your home directory on the server. You can do this by:"
   ]
  },
  {
   "cell_type": "code",
   "execution_count": null,
   "id": "a59d792f",
   "metadata": {
    "attributes": {
     "classes": [],
     "eval": "FALSE",
     "id": ""
    },
    "kernel": "Bash",
    "tags": []
   },
   "outputs": [],
   "source": [
    "ssh <username>@midway3.rcc.uchicago.edu ##you should change this"
   ]
  },
  {
   "cell_type": "markdown",
   "id": "3b08e21a",
   "metadata": {
    "kernel": "SoS"
   },
   "source": [
    "Note that you will be prompted to enter your password. \n",
    "One somewhat counter-intuitive facet of password entry in Unix is that there is no indiciation on-screen of characters being typed in. \n",
    "This is an intentional security feature, in order to prevent onlookers from inferring the length of your password. \n",
    "Type in your password for logging into UChicago account when prompted. \n",
    "The midway3 server requires two-factor authentication, so you will next be prompted to log in with DUO, enter a passcode, or receive a call. \n",
    "After you do one of these three things, you should be on the server. \n",
    "\n",
    "Using the commands listed above, do the following in your home directory: \n",
    "\n",
    "- **1) Go to course directory.**\n",
    "- **2) Make your own directory (if you haven't done so already).**\n",
    "- **3) Enter your own directory.**\n",
    "- **4) Create a directory for this lab session.**\n",
    "- **5) Enter the directory you created for this lab session.**"
   ]
  },
  {
   "cell_type": "code",
   "execution_count": 5,
   "id": "759af043",
   "metadata": {
    "attributes": {
     "classes": [],
     "eval": "FALSE",
     "id": ""
    },
    "kernel": "Bash"
   },
   "outputs": [],
   "source": [
    "cd / <your_directory>/HGEN471-class/labs/        ##Step 1  # you should change this\n",
    "mkdir -p data      ##Step 2\n",
    "cd  data        ##Step 3\n",
    "mkdir -p lab1     ##Step 4\n",
    "cd lab1         ##Step 5"
   ]
  },
  {
   "cell_type": "markdown",
   "id": "46063540",
   "metadata": {
    "kernel": "SoS"
   },
   "source": [
    "# The Basics of PLINK\n",
    "\n",
    "## Basic Commands and Options\n",
    "\n",
    "PLINK is a comprehensive program with an enormous range of functionalities and options. We will introduce some basic commands here to get you started, but inevitably, you will want to visit the PLINK documentation. \n",
    "\n",
    "Regarding the PLINK version, you may see three versions available currently (Jan 2023). They are: v1.07, v1.9, and v2. PLINK v1.9 and v2 are under active developement whereas v1.07 is not. Throughout this lab, we will use PLINK v1.9, which is the default version on RCC. The reason is two-fold: 1) v1.9 has many enhancements over v1.07 and it is still getting even better; 2) As statistical genetics a fast growing field, new features are actively incorporated into newer version. \n",
    "\n",
    "In the following, we list some commonly used commands in PLINK. To get to know more about how to use PLINK v1.9, check  [here](https://www.cog-genomics.org/plink/1.9/) and [here](https://zzz.bwh.harvard.edu/plink/index.shtml) for online documentation.  \n",
    "\n",
    "Command         |       Description\n",
    "-----------     |   --------------------------------------------\n",
    "**make-bed**    |   Converts a PED file to a BED file.\n",
    "**missing**     |   Generates summary statistics on missing data.\n",
    "**freq**        |   Generates summary statistics on allele frequencies.\n",
    "**assoc**       |   Runs a basic genome-wide association analysis (on discrete or continuous trait).\n",
    "**model**       |   Runs a variety of genotypic association models.\n",
    "**cluster**     |   Perform complete linkage clustering of individuals on autosomal SNPs. \n",
    "\n",
    "\n",
    "In addition to the commands which generate files on their own, the following basic options are important. In any analysis, it is important to perform quality control on the input data (so that we reduce the chance to be placed at \"garbage in, garbage out\" situation). And equally importantly, we should report how the QC is done in the manuscript (*e.g.* what thresholds/limits are used to filter out outliers, etc). Often, you may want to use many values to explore whether the perceived association or relationship is robust to your *a priori* limits.\n",
    "\n",
    "Option         |       Description\n",
    "-----------    |   ------------------------------------------\n",
    "**mind**       |   Upper limit for the rate of SNPs missing for individual.\n",
    "**geno**       |   Upper limit for the rate of individuals missing at a given SNP.\n",
    "**hwe**        |   Lower limit for deviation from Hardy-Weinberg Equilibrium (unit = p-value).\n",
    "**maf**        |   Lower limit for Minor Allele Frequency (MAF).\n",
    "**chr**        |   Limits to a single chromosome.\n",
    "**within**     |   Allows for stratified analysis.\n",
    "**adjust**     |   Reports adjusted significance values for an association.\n",
    "\n",
    "## PLINK syntax\n",
    "\n",
    "PLINK syntax follows basic Unix style commands. However, one notable element of the syntax is that PLINK generally takes the file name without extension. For example, one of the first steps in PLINK is to make a BED file from a PED file. In such an example, a command could be (this is just an example, DON'T run the code in terminal):"
   ]
  },
  {
   "cell_type": "code",
   "execution_count": 6,
   "id": "2697817c-893f-430b-bcaa-2b5985e720a8",
   "metadata": {
    "kernel": "Bash"
   },
   "outputs": [
    {
     "name": "stdout",
     "output_type": "stream",
     "text": [
      "Plink is already installed.\n"
     ]
    }
   ],
   "source": [
    "# Function to check if a command exists\n",
    "command_exists() {\n",
    "    command -v \"$1\" >/dev/null 2>&1\n",
    "}\n",
    "\n",
    "# Check if plink is installed\n",
    "if command_exists plink; then\n",
    "    echo \"Plink is already installed.\"\n",
    "else\n",
    "    echo \"Plink is not installed. Installing via conda...\"\n",
    "    \n",
    "    # Check if conda is installed\n",
    "    if command_exists conda; then\n",
    "        conda install -c bioconda plink -y\n",
    "        if command_exists plink; then\n",
    "            echo \"Plink has been successfully installed.\"\n",
    "        else\n",
    "            echo \"Failed to install Plink.\"\n",
    "        fi\n",
    "    else\n",
    "        echo \"Conda is not installed. Please install Conda first.\"\n",
    "    fi\n",
    "fi\n"
   ]
  },
  {
   "cell_type": "code",
   "execution_count": 9,
   "id": "cc4601bf-e40e-49b0-acfd-abef90670acd",
   "metadata": {
    "kernel": "Bash"
   },
   "outputs": [
    {
     "name": "stdout",
     "output_type": "stream",
     "text": [
      "PLINK v1.90b6.21 64-bit (19 Oct 2020)\n",
      "g_data.map  g_data.ped  \u001b[0m\u001b[01;31mhapmap1.zip\u001b[0m  \u001b[01;34mplink\u001b[0m\n"
     ]
    }
   ],
   "source": [
    "plink --version\n",
    "ls"
   ]
  },
  {
   "cell_type": "code",
   "execution_count": 10,
   "id": "8dc91e23",
   "metadata": {
    "attributes": {
     "classes": [],
     "eval": "FALSE",
     "id": ""
    },
    "kernel": "Bash",
    "scrolled": true
   },
   "outputs": [
    {
     "name": "stdout",
     "output_type": "stream",
     "text": [
      "PLINK v1.90b6.21 64-bit (19 Oct 2020)          www.cog-genomics.org/plink/1.9/\n",
      "(C) 2005-2020 Shaun Purcell, Christopher Chang   GNU General Public License v3\n",
      "Logging to g_data_out.log.\n",
      "Options in effect:\n",
      "  --file g_data\n",
      "  --make-bed\n",
      "  --out g_data_out\n",
      "\n",
      "4115979 MB RAM detected; reserving 2057989 MB for main workspace.\n",
      ".ped scan complete (for binary autoconversion).324252628293031323334353738394041424344464748495051525355565758596061626465666768697071737475767778798082838485868788899192939495969798100%\n",
      "Performing single-pass .bed write (83534 variants, 89 people).\n",
      "--file: g_data_out-temporary.bed + g_data_out-temporary.bim +0414243444546474849505152535455565758596061626364656667686970717273747576777879808182838485868788899091929394%\n",
      "g_data_out-temporary.fam written.\n",
      "83534 variants loaded from .bim file.\n",
      "89 people (89 males, 0 females) loaded from .fam.\n",
      "89 phenotype values loaded from .fam.\n",
      "Using 1 thread (no multithreaded calculations invoked).\n",
      "Before main variant filters, 89 founders and 0 nonfounders present.\n",
      "Calculating allele frequencies... 10111213141516171819202122232425262728293031323334353637383940414243444546474849505152535455565758596061626364656667686970717273747576777879808182838485868788899091929394959697989 done.\n",
      "Total genotyping rate is 0.99441.\n",
      "83534 variants and 89 people pass filters and QC.\n",
      "Among remaining phenotypes, 44 are cases and 45 are controls.\n",
      "--make-bed to g_data_out.bed + g_data_out.bim + g_data_out.fam ... 101112131415161718192021222324252627282930313233343536373839404142434445464748495051525354555657585960616263646566676869707172737475767778798081828384858687888990919293949596979899done.\n"
     ]
    }
   ],
   "source": [
    "plink --file g_data --make-bed --out g_data_out "
   ]
  },
  {
   "cell_type": "code",
   "execution_count": 11,
   "id": "b900497f-f68b-4811-9a30-30e2b98a2f4b",
   "metadata": {
    "kernel": "Bash"
   },
   "outputs": [
    {
     "name": "stdout",
     "output_type": "stream",
     "text": [
      "g_data.map      g_data_out.bim  g_data_out.log  \u001b[0m\u001b[01;31mhapmap1.zip\u001b[0m\n",
      "g_data_out.bed  g_data_out.fam  g_data.ped      \u001b[01;34mplink\u001b[0m\n"
     ]
    }
   ],
   "source": [
    "ls "
   ]
  },
  {
   "cell_type": "markdown",
   "id": "8c45eca6",
   "metadata": {
    "kernel": "SoS"
   },
   "source": [
    "Here, we are calling the PLINK command and providing the root for the input file *\"g_data.ped\"*, commanding PLINK to make a BED file (*\"\\--make-bed\"*), and naming an output *\"g_data_out.bed\"*.\n",
    "\n",
    "## PED files\n",
    "It is helpful to know the correct format for PED files in case you want to troubleshoot or design an automated script to modify an existing PED file. All PED files are white-space (space or tab) delimited files, arranged such that the **first six columns** are mandatory: \n",
    "\n",
    "- **1) Family ID**\n",
    "- **2) Individual ID**\n",
    "- **3) Paternal ID**\n",
    "- **4) Maternal ID**\n",
    "- **5) Sex** (1 = male, 2 = female; other = unknown)\n",
    "- **6) Phenotype**\n",
    "\n",
    "All IDs are alphanumeric, and a PED file must have only 1 phenotype in the sixth column, and may be quantitative or qualitative. Every two columns after the first six are genotypes of SNPs listed in .map file in the same order. These SNPs should be biallelic so that can be represented by numbers or letters (1,2,3,4 or A,T,G,C), as long as 0 is not used (this is default for missing data). So, each of the two columns represent the genotype of a biallelic locus. For instance, 7th and 8th column are allele calls for the first variant in the .map file. Therefore, the number of columns in any PED file is equal to 2 times the number of SNPs (genotypic data) plus the leading six columns. \n",
    "\n",
    "If you'd like to get to know more on PED format, PLINK documentation has detailed description at [here](https://www.cog-genomics.org/plink/1.9/formats#ped). More importantly, there are many more formats that could be input or generated by PLINK. Whenever you encounter a new format, you can get to know about it using PLINK documentation [File formats](https://www.cog-genomics.org/plink/1.9/formats) page.  \n",
    "\n",
    "Although BED files (binary PED files) are often used for analyses to reduce computational time, they are much harder to work with since they are in binary format, and thus generally modifications are made to PED files and then they are then converted to BED files using the command in Section 1.2.\n",
    "\n",
    "## Basic Operations (HapMap Example)  \n",
    "\n",
    "### Download and unzip dataset and load PLINK\n",
    "\n",
    "To begin, we will start with the dataset included with the standard PLINK download. This dataset includes randomly selected genotypes (~80,000 autosomal SNPs) from 89 Asian HapMap individuals. In order to download this data for this lab, **navigate to your directory on the cluster, and use the following command to download the zipfile**:"
   ]
  },
  {
   "cell_type": "code",
   "execution_count": 12,
   "id": "3b266be4",
   "metadata": {
    "attributes": {
     "classes": [],
     "eval": "FALSE",
     "id": ""
    },
    "kernel": "Bash"
   },
   "outputs": [
    {
     "name": "stdout",
     "output_type": "stream",
     "text": [
      "--2024-06-17 15:51:41--  http://zzz.bwh.harvard.edu/plink/hapmap1.zip\n",
      "Resolving zzz.bwh.harvard.edu (zzz.bwh.harvard.edu)... 170.223.191.141\n",
      "Connecting to zzz.bwh.harvard.edu (zzz.bwh.harvard.edu)|170.223.191.141|:80... connected.\n",
      "HTTP request sent, awaiting response... 302 Found\n",
      "Location: https://zzz.bwh.harvard.edu/plink/hapmap1.zip [following]\n",
      "--2024-06-17 15:51:50--  https://zzz.bwh.harvard.edu/plink/hapmap1.zip\n",
      "Connecting to zzz.bwh.harvard.edu (zzz.bwh.harvard.edu)|170.223.191.141|:443... connected.\n",
      "HTTP request sent, awaiting response... 416 Requested Range Not Satisfiable\n",
      "\n",
      "    The file is already fully retrieved; nothing to do.\n",
      "\n"
     ]
    }
   ],
   "source": [
    "wget -c zzz.bwh.harvard.edu/plink/hapmap1.zip "
   ]
  },
  {
   "cell_type": "markdown",
   "id": "670a8b63",
   "metadata": {
    "kernel": "SoS"
   },
   "source": [
    "**Next, create a new directory, unzip the file you downloaded, and place the contents in that directory.** \n",
    "\n",
    "You should note that this file is a .zip file rather than a .tar file. **As such you should use the unzip command instead of the tar command to access the contents.**"
   ]
  },
  {
   "cell_type": "code",
   "execution_count": 15,
   "id": "5db68a4f",
   "metadata": {
    "attributes": {
     "classes": [],
     "eval": "FALSE",
     "id": ""
    },
    "kernel": "Bash"
   },
   "outputs": [
    {
     "name": "stdout",
     "output_type": "stream",
     "text": [
      "Archive:  hapmap1.zip\n",
      "  inflating: plink/hapmap1.ped       \n",
      "  inflating: plink/hapmap1.map       \n",
      "  inflating: plink/pop.phe           \n",
      "  inflating: plink/qt.phe            \n"
     ]
    }
   ],
   "source": [
    "mkdir -p plink                   ##Make a new directory for the PLINK tutorial\n",
    "unzip hapmap1.zip -d plink    ##Unzip the HapMap data into the PLINK directory\n",
    "cd plink                      ##Go to the PLINK directory"
   ]
  },
  {
   "cell_type": "markdown",
   "id": "6aaa8e92",
   "metadata": {
    "kernel": "SoS"
   },
   "source": [
    "Now that we have our dataset, we need to access PLINK, the software we'll be using for this lab. We'll be accessing the program directly from the cluster. Clusters, particularly those that service genetics and genomic research at institutions, often come with many programs built in. These programs are available to all users and prevents them from needing to download multiple programs to their individual machines. **View the versions of PLINK available to you and load the specified version of PLINK.**\n",
    "\n",
    "- **1) Look at the programs available for you to load**\n",
    "- **2) Specifically look at the version of plink available to you**\n",
    "- **3) Load the default version of plink for you to use**"
   ]
  },
  {
   "cell_type": "code",
   "execution_count": 16,
   "id": "38327b85",
   "metadata": {
    "attributes": {
     "classes": [],
     "eval": "FALSE",
     "id": ""
    },
    "kernel": "Bash"
   },
   "outputs": [
    {
     "name": "stdout",
     "output_type": "stream",
     "text": [
      "Plink is already installed.\n"
     ]
    }
   ],
   "source": [
    "#module avail                   ##Step 1\n",
    "#module avail plink             ##Step 2\n",
    "#module load plink              ##Step 3\n",
    "#Or\n",
    "\n",
    "# Function to check if a command exists\n",
    "command_exists() {\n",
    "    command -v \"$1\" >/dev/null 2>&1\n",
    "}\n",
    "\n",
    "# Check if plink is installed\n",
    "if command_exists plink; then\n",
    "    echo \"Plink is already installed.\"\n",
    "else\n",
    "    echo \"Plink is not installed. Installing via conda...\"\n",
    "    \n",
    "    # Check if conda is installed\n",
    "    if command_exists conda; then\n",
    "        conda install -c bioconda plink -y\n",
    "        if command_exists plink; then\n",
    "            echo \"Plink has been successfully installed.\"\n",
    "        else\n",
    "            echo \"Failed to install Plink.\"\n",
    "        fi\n",
    "    else\n",
    "        echo \"Conda is not installed. Please install Conda first.\"\n",
    "    fi\n",
    "fi"
   ]
  },
  {
   "cell_type": "markdown",
   "id": "e0301ddb",
   "metadata": {
    "kernel": "SoS"
   },
   "source": [
    "Sidenote: the midway cluster has a number of other software packages already pre-installed. For future reference, if you want to determine what packages / whether a specific package is already installed on the cluster:"
   ]
  },
  {
   "cell_type": "code",
   "execution_count": 17,
   "id": "89e8a832",
   "metadata": {
    "attributes": {
     "classes": [],
     "eval": "FALSE",
     "id": ""
    },
    "kernel": "SoS"
   },
   "outputs": [],
   "source": [
    "#module avail #to list all packages installed on the cluster \n",
    "#module avail <insert_package_name> #to check if a specific package is installed"
   ]
  },
  {
   "cell_type": "markdown",
   "id": "17681eda",
   "metadata": {
    "kernel": "SoS"
   },
   "source": [
    "### Converting PED files to BED files\n",
    "\n",
    "Now that you have access to PLINK, this next command will convert the example hapmap1 PED file to a BED file. Make sure these commands are entered in the same directory where the hapmap files are located. Note that once you have converted to a BED file, the input command becomes *bfile* instead of *file*. **Type the following to convert your PED to a BED file**:"
   ]
  },
  {
   "cell_type": "code",
   "execution_count": 18,
   "id": "2d4e10cc",
   "metadata": {
    "attributes": {
     "classes": [],
     "eval": "FALSE",
     "id": ""
    },
    "kernel": "Bash"
   },
   "outputs": [
    {
     "name": "stdout",
     "output_type": "stream",
     "text": [
      "PLINK v1.90b6.21 64-bit (19 Oct 2020)          www.cog-genomics.org/plink/1.9/\n",
      "(C) 2005-2020 Shaun Purcell, Christopher Chang   GNU General Public License v3\n",
      "Logging to hapmap1.log.\n",
      "Options in effect:\n",
      "  --file hapmap1\n",
      "  --make-bed\n",
      "  --out hapmap1\n",
      "\n",
      "4115979 MB RAM detected; reserving 2057989 MB for main workspace.\n",
      ".ped scan complete (for binary autoconversion).324252628293031323334353738394041424344464748495051525355565758596061626465666768697071737475767778798082838485868788899192939495969798100%\n",
      "Performing single-pass .bed write (83534 variants, 89 people).\n",
      "--file: hapmap1-temporary.bed + hapmap1-temporary.bim + hapmap1-temporary.fam849505152535455565758596061626364656667686970717273747576777879808182838485868788899091929394%\n",
      "written.\n",
      "83534 variants loaded from .bim file.\n",
      "89 people (89 males, 0 females) loaded from .fam.\n",
      "89 phenotype values loaded from .fam.\n",
      "Using 1 thread (no multithreaded calculations invoked).\n",
      "Before main variant filters, 89 founders and 0 nonfounders present.\n",
      "Calculating allele frequencies... 10111213141516171819202122232425262728293031323334353637383940414243444546474849505152535455565758596061626364656667686970717273747576777879808182838485868788899091929394959697989 done.\n",
      "Total genotyping rate is 0.99441.\n",
      "83534 variants and 89 people pass filters and QC.\n",
      "Among remaining phenotypes, 44 are cases and 45 are controls.\n",
      "--make-bed to hapmap1.bed + hapmap1.bim + hapmap1.fam ... 101112131415161718192021222324252627282930313233343536373839404142434445464748495051525354555657585960616263646566676869707172737475767778798081828384858687888990919293949596979899done.\n"
     ]
    }
   ],
   "source": [
    "plink --file hapmap1 --make-bed --out hapmap1"
   ]
  },
  {
   "cell_type": "markdown",
   "id": "d248e6e4",
   "metadata": {
    "kernel": "SoS"
   },
   "source": [
    "This command should have converted your input file (*hapmap1.ped*) into a binary PED file (*hapmap1.bed*). **Check for the new file by looking through your directory**. You may notice that there are now two other types of files in the directory (*hapmap1.bim* and *hapmap1.fam*). The .bim file is a revised mapping file and the .fam file is the first six columns of the PED file. Although it is fine to extract data from these files, people usually do not edit them manually. \n",
    "  \n",
    "### Generating statistics on missing data  \n",
    "  \n",
    "Often, datasets may have missing data, and it is helpful to know some general statistics on this missing data. To generate these stats, **type the following**:"
   ]
  },
  {
   "cell_type": "code",
   "execution_count": 19,
   "id": "21dd7afb",
   "metadata": {
    "attributes": {
     "classes": [],
     "eval": "FALSE",
     "id": ""
    },
    "kernel": "Bash",
    "scrolled": true
   },
   "outputs": [
    {
     "name": "stdout",
     "output_type": "stream",
     "text": [
      "PLINK v1.90b6.21 64-bit (19 Oct 2020)          www.cog-genomics.org/plink/1.9/\n",
      "(C) 2005-2020 Shaun Purcell, Christopher Chang   GNU General Public License v3\n",
      "Logging to miss_stat.log.\n",
      "Options in effect:\n",
      "  --file hapmap1\n",
      "  --missing\n",
      "  --out miss_stat\n",
      "\n",
      "4115979 MB RAM detected; reserving 2057989 MB for main workspace.\n",
      ".ped scan complete (for binary autoconversion).324252628293031323334353738394041424344464748495051525355565758596061626465666768697071737475767778798082838485868788899192939495969798100%\n",
      "Performing single-pass .bed write (83534 variants, 89 people).\n",
      "--file: miss_stat-temporary.bed + miss_stat-temporary.bim +940414243444546474849505152535455565758596061626364656667686970717273747576777879808182838485868788899091929394%\n",
      "miss_stat-temporary.fam written.\n",
      "83534 variants loaded from .bim file.\n",
      "89 people (89 males, 0 females) loaded from .fam.\n",
      "89 phenotype values loaded from .fam.\n",
      "Using 1 thread (no multithreaded calculations invoked).\n",
      "Before main variant filters, 89 founders and 0 nonfounders present.\n",
      "Calculating allele frequencies... 10111213141516171819202122232425262728293031323334353637383940414243444546474849505152535455565758596061626364656667686970717273747576777879808182838485868788899091929394959697989 done.\n",
      "Total genotyping rate is 0.99441.\n",
      "--missing: Sample missing data report written to miss_stat.imiss, and\n",
      "variant-based missing data report written to miss_stat.lmiss.\n"
     ]
    }
   ],
   "source": [
    "plink --file hapmap1 --missing --out miss_stat "
   ]
  },
  {
   "cell_type": "markdown",
   "id": "b0569129",
   "metadata": {
    "kernel": "SoS"
   },
   "source": [
    "This command will create *miss_stat.lmiss* and *miss_stat.imiss* files, summarizing the per SNP and per individual rates of missing data, respectively. **Open take a look at these files in Terminal to check formatting**.\n",
    "\n",
    "*Problem 1*  \n",
    "What are the columns for the two files generated (.lmiss & .imiss)?\n",
    "\n",
    "**Try the following command to get some basic summary data on the files**:"
   ]
  },
  {
   "cell_type": "code",
   "execution_count": 20,
   "id": "41db83cc",
   "metadata": {
    "attributes": {
     "classes": [],
     "eval": "FALSE",
     "id": ""
    },
    "kernel": "Bash"
   },
   "outputs": [
    {
     "name": "stdout",
     "output_type": "stream",
     "text": [
      "  90  540 4680 miss_stat.imiss\n"
     ]
    }
   ],
   "source": [
    "wc miss_stat.imiss"
   ]
  },
  {
   "cell_type": "markdown",
   "id": "82ff108d",
   "metadata": {
    "kernel": "SoS"
   },
   "source": [
    "*Problem 2*  \n",
    "You should see 3 numbers returned by the command above. What do the different numbers correspond to? How many SNPs are in this dataset? \n",
    "\n",
    "### Generating statistics on allele frequencies\n",
    "\n",
    "For most analyses it is important to know the minor allele frequencies (MAF) for any individual SNP, as you may want to restrict the analysis to SNPs with MAF above a particular value. **To generate a file with all SNPs and the MAF, type the following command**:"
   ]
  },
  {
   "cell_type": "code",
   "execution_count": 21,
   "id": "719d741c",
   "metadata": {
    "attributes": {
     "classes": [],
     "eval": "FALSE",
     "id": ""
    },
    "kernel": "Bash"
   },
   "outputs": [
    {
     "name": "stdout",
     "output_type": "stream",
     "text": [
      "PLINK v1.90b6.21 64-bit (19 Oct 2020)          www.cog-genomics.org/plink/1.9/\n",
      "(C) 2005-2020 Shaun Purcell, Christopher Chang   GNU General Public License v3\n",
      "Logging to freq_stat.log.\n",
      "Options in effect:\n",
      "  --bfile hapmap1\n",
      "  --freq\n",
      "  --out freq_stat\n",
      "\n",
      "4115979 MB RAM detected; reserving 2057989 MB for main workspace.\n",
      "83534 variants loaded from .bim file.\n",
      "89 people (89 males, 0 females) loaded from .fam.\n",
      "89 phenotype values loaded from .fam.\n",
      "Using 1 thread (no multithreaded calculations invoked).\n",
      "Before main variant filters, 89 founders and 0 nonfounders present.\n",
      "Calculating allele frequencies... 10111213141516171819202122232425262728293031323334353637383940414243444546474849505152535455565758596061626364656667686970717273747576777879808182838485868788899091929394959697989 done.\n",
      "Total genotyping rate is 0.99441.\n",
      "--freq: Allele frequencies (founders only) written to freq_stat.frq .\n"
     ]
    }
   ],
   "source": [
    "plink --bfile hapmap1 --freq --out freq_stat"
   ]
  },
  {
   "cell_type": "markdown",
   "id": "ded481a1",
   "metadata": {
    "kernel": "SoS"
   },
   "source": [
    "*Problem 3*  \n",
    "What are the different columns in the file generated (*freq_stat.frq*)? What do they mean?\n",
    "\n",
    "### Hardy-Weinberg equilibrium testing\n",
    "Testing HWE allows us to detect deviations that may arise from genotyping error, nonrandom mating, or selection. **To generate a list of genotype counts and Hardy-Weinberg test statistics for each SNP, use the command**:"
   ]
  },
  {
   "cell_type": "code",
   "execution_count": 22,
   "id": "8f9ac34d",
   "metadata": {
    "attributes": {
     "classes": [],
     "eval": "FALSE",
     "id": ""
    },
    "kernel": "Bash"
   },
   "outputs": [
    {
     "name": "stdout",
     "output_type": "stream",
     "text": [
      "PLINK v1.90b6.21 64-bit (19 Oct 2020)          www.cog-genomics.org/plink/1.9/\n",
      "(C) 2005-2020 Shaun Purcell, Christopher Chang   GNU General Public License v3\n",
      "Logging to plink.log.\n",
      "Options in effect:\n",
      "  --file hapmap1\n",
      "  --hardy\n",
      "\n",
      "4115979 MB RAM detected; reserving 2057989 MB for main workspace.\n",
      ".ped scan complete (for binary autoconversion).324252628293031323334353738394041424344464748495051525355565758596061626465666768697071737475767778798082838485868788899192939495969798100%\n",
      "Performing single-pass .bed write (83534 variants, 89 people).\n",
      "--file: plink-temporary.bed + plink-temporary.bim + plink-temporary.fam546474849505152535455565758596061626364656667686970717273747576777879808182838485868788899091929394%\n",
      "written.\n",
      "83534 variants loaded from .bim file.\n",
      "89 people (89 males, 0 females) loaded from .fam.\n",
      "89 phenotype values loaded from .fam.\n",
      "Using 1 thread (no multithreaded calculations invoked).\n",
      "Before main variant filters, 89 founders and 0 nonfounders present.\n",
      "Calculating allele frequencies... 10111213141516171819202122232425262728293031323334353637383940414243444546474849505152535455565758596061626364656667686970717273747576777879808182838485868788899091929394959697989 done.\n",
      "Total genotyping rate is 0.99441.\n",
      "--hardy: Writing Hardy-Weinberg report (founders only) to plink.hwe ... 101112131415161718192021222324252627282930313233343536373839404142434445464748495051525354555657585960616263646566676869707172737475767778798081828384858687888990919293949596979899done.\n"
     ]
    }
   ],
   "source": [
    "plink --file hapmap1 --hardy"
   ]
  },
  {
   "cell_type": "markdown",
   "id": "327b6e0a",
   "metadata": {
    "kernel": "SoS"
   },
   "source": [
    "*Problem 4*  \n",
    "What are the different columns in the file generated (*plink.hwe*)? What do they mean?\n",
    "  \n",
    "### Inbreeding coefficients\n",
    "PLINK can also calculate inbreeding coefficients based on the observed versus expected number of homozygous genotypes. **To generate a file containing inbreeding coefficient estimates (F), use the command**:"
   ]
  },
  {
   "cell_type": "code",
   "execution_count": 23,
   "id": "86ec4afc",
   "metadata": {
    "attributes": {
     "classes": [],
     "eval": "FALSE",
     "id": ""
    },
    "kernel": "Bash"
   },
   "outputs": [
    {
     "name": "stdout",
     "output_type": "stream",
     "text": [
      "PLINK v1.90b6.21 64-bit (19 Oct 2020)          www.cog-genomics.org/plink/1.9/\n",
      "(C) 2005-2020 Shaun Purcell, Christopher Chang   GNU General Public License v3\n",
      "Logging to plink.log.\n",
      "Options in effect:\n",
      "  --file hapmap1\n",
      "  --het\n",
      "\n",
      "4115979 MB RAM detected; reserving 2057989 MB for main workspace.\n",
      ".ped scan complete (for binary autoconversion).324252628293031323334353738394041424344464748495051525355565758596061626465666768697071737475767778798082838485868788899192939495969798100%\n",
      "Performing single-pass .bed write (83534 variants, 89 people).\n",
      "--file: plink-temporary.bed + plink-temporary.bim + plink-temporary.fam546474849505152535455565758596061626364656667686970717273747576777879808182838485868788899091929394%\n",
      "written.\n",
      "83534 variants loaded from .bim file.\n",
      "89 people (89 males, 0 females) loaded from .fam.\n",
      "89 phenotype values loaded from .fam.\n",
      "Using 1 thread (no multithreaded calculations invoked).\n",
      "Before main variant filters, 89 founders and 0 nonfounders present.\n",
      "Calculating allele frequencies... 10111213141516171819202122232425262728293031323334353637383940414243444546474849505152535455565758596061626364656667686970717273747576777879808182838485868788899091929394959697989 done.\n",
      "Total genotyping rate is 0.99441.\n",
      "83534 variants and 89 people pass filters and QC.\n",
      "Among remaining phenotypes, 44 are cases and 45 are controls.\n",
      "--het: 68727 variants scanned, report written to plink.het .\n"
     ]
    }
   ],
   "source": [
    "plink --file hapmap1 --het"
   ]
  },
  {
   "cell_type": "markdown",
   "id": "bb4774d2",
   "metadata": {
    "kernel": "SoS"
   },
   "source": [
    "# Working with data in R\n",
    "\n",
    "The following problems will review what we covered in lab 0.\n",
    "\n",
    "## The iris dataset\n",
    "  \n",
    "**iris** is one of R's built-in datasets. Load the **iris** dataset into R and finish the following problems.\n",
    "\n",
    "*Problem 5*\n",
    "What's the dimension of **iris**?\n",
    "\n",
    "*Problem 6*\n",
    "What does each column of **iris** contain?\n",
    "\n",
    "*Problem 7*\n",
    "Plot the first column against the second column using ggplot2 (we will deduct points if you use base R graphics instead of ggplot2). Color the points by species and describe your observations.\n",
    "\n",
    "## Simulating genotype data\n",
    "  \n",
    "For simple simulation of genotype data, we'll assume the SNP is biallelic and therefore use a binomial distribution. By passing our desired arguments for the parameters of the rbinom function, we can randomly generate genotypes. We set the parameter $n$ equal to 1000 for the number of individuals in our simulation. Assuming the individuals are *diploid*, the number of trials, $size$, will be 2 *per individual*. Finally, the probability of \"success\" for each trial, the minor allele frequency, is $p$. **Run the following simulation of genotype data**:"
   ]
  },
  {
   "cell_type": "code",
   "execution_count": 24,
   "id": "d44132c7",
   "metadata": {
    "attributes": {
     "classes": [],
     "eval": "FALSE",
     "id": ""
    },
    "kernel": "R"
   },
   "outputs": [],
   "source": [
    "# Simulate random SNP genotypes for 1000 diploid individuals, given a minor allele frequency of 0.2\n",
    "num_individuals <- 1000\n",
    "ploidy_level <- 2\n",
    "maf <- 0.2\n",
    "geno <- rbinom(n = num_individuals, size = ploidy_level, p = maf)"
   ]
  },
  {
   "cell_type": "markdown",
   "id": "5cf0257d",
   "metadata": {
    "kernel": "SoS"
   },
   "source": [
    "We now have the object \"geno\" containing genotypes for 1000 individuals. Given the minor allele is designated as 1 and major allele as 0, each genotype is either homozygous dominant (0+0=0),  heterozygous (0+1=1), or homozygous recessive (1+1=2). **Let's rename these as AA, Aa, and aa to make this more intuitive**:"
   ]
  },
  {
   "cell_type": "code",
   "execution_count": 25,
   "id": "ddab3165",
   "metadata": {
    "attributes": {
     "classes": [],
     "eval": "FALSE",
     "id": ""
    },
    "kernel": "R"
   },
   "outputs": [],
   "source": [
    "# The gsub function acts as a find and replace, type ?gsub in the console for more info\n",
    "geno <- gsub(\"0\", \"AA\", geno)\n",
    "geno <- gsub(\"1\", \"Aa\", geno)\n",
    "geno <- gsub(\"2\", \"aa\", geno)"
   ]
  },
  {
   "cell_type": "markdown",
   "id": "b7936749",
   "metadata": {
    "kernel": "SoS"
   },
   "source": [
    "**Check the number of times each genotype occurs by using the the \"table\" function**:"
   ]
  },
  {
   "cell_type": "code",
   "execution_count": 26,
   "id": "d92bf9c8",
   "metadata": {
    "attributes": {
     "classes": [],
     "eval": "FALSE",
     "id": ""
    },
    "kernel": "R"
   },
   "outputs": [
    {
     "data": {
      "text/plain": [
       "geno\n",
       " aa  Aa  AA \n",
       " 44 309 647 "
      ]
     },
     "metadata": {},
     "output_type": "display_data"
    }
   ],
   "source": [
    "table(geno)"
   ]
  },
  {
   "cell_type": "markdown",
   "id": "9bfe30b3",
   "metadata": {
    "kernel": "SoS"
   },
   "source": [
    "*Problem 8*  \n",
    "We set our minor allele frequency as 0.2, but the proportion of genotypes containing the minor allele is roughly 0.4. Why is this the case?"
   ]
  }
 ],
 "metadata": {
  "kernelspec": {
   "display_name": "SoS",
   "language": "sos",
   "name": "sos"
  },
  "language_info": {
   "codemirror_mode": "sos",
   "file_extension": ".sos",
   "mimetype": "text/x-sos",
   "name": "sos",
   "nbconvert_exporter": "sos_notebook.converter.SoS_Exporter",
   "pygments_lexer": "sos"
  },
  "sos": {
   "kernels": [
    [
     "Bash",
     "calysto_bash",
     "Bash",
     "#E6EEFF",
     "shell"
    ],
    [
     "R",
     "ir",
     "R",
     "#DCDCDA",
     "r"
    ],
    [
     "SoS",
     "sos",
     "",
     "",
     "sos"
    ]
   ],
   "version": "0.22.3"
  }
 },
 "nbformat": 4,
 "nbformat_minor": 5
}
